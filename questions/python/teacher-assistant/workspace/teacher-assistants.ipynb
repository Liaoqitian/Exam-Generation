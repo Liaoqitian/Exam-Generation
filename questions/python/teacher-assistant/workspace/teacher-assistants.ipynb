{
 "metadata": {
  "language_info": {
   "codemirror_mode": {
    "name": "ipython",
    "version": 3
   },
   "file_extension": ".py",
   "mimetype": "text/x-python",
   "name": "python",
   "nbconvert_exporter": "python",
   "pygments_lexer": "ipython3",
   "version": 3
  },
  "orig_nbformat": 2
 },
 "nbformat": 4,
 "nbformat_minor": 2,
 "cells": [
  {
   "cell_type": "code",
   "execution_count": null,
   "metadata": {},
   "outputs": [],
   "source": [
    "# Edit the following function\n",
    "def TAs_with_at_least_half_discussions_full(enrollment, attendance):\n",
    "    pass"
   ]
  },
  {
   "cell_type": "code",
   "execution_count": null,
   "metadata": {},
   "outputs": [],
   "source": [
    "fa20_enrollment = {\"MS\": 10, \"IO\": 20, \"SH\":20, \"MY\":15, \"QL\": 10}"
   ]
  },
  {
   "cell_type": "code",
   "execution_count": null,
   "metadata": {},
   "outputs": [],
   "source": [
    "fa20_attendance = {\"MS\": [10, 9, 10, 10, 10, 2, 9, 10, 9, 1],\n",
    "                   \"IO\": [19, 18, 16, 14, 12, 11, 10, 5, 5, 5],\n",
    "                   \"SH\": [25, 22, 23, 24, 25, 22, 22, 20, 25, 25],\n",
    "                   \"MY\": [20, 15, 15, 12, 17, 17, 17, 16, 18, 20],\n",
    "                   \"QL\": [5, 5, 4, 2, 3, 10, 11, 12, 4, 2]}"
   ]
  },
  {
   "cell_type": "code",
   "execution_count": null,
   "metadata": {},
   "outputs": [],
   "source": [
    "# Here is a test case which should return ['MS', 'SH', 'MY']\n",
    "TAs_with_at_least_half_discussions_full(fa20_enrollment, fa20_attendance) "
   ]
  }
 ]
}